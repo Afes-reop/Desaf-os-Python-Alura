{
 "cells": [
  {
   "cell_type": "markdown",
   "id": "c5dc67d9",
   "metadata": {},
   "source": [
    "# Desafio: ¡Es hora de practicar!\n"
   ]
  },
  {
   "cell_type": "markdown",
   "id": "b9a7d5ad",
   "metadata": {},
   "source": [
    "Vamos practicar el uso de estructuras condicionales como el if, else y elif a través de algunas actividades. Ahora que estamos avanzando en los contenidos, podemos hacer los desafíos más interesantes: ¡trabajaremos en proyectos de código! Resuelve los problemas iniciales para prepararte para los proyectos:"
   ]
  },
  {
   "cell_type": "markdown",
   "id": "a62cdf87",
   "metadata": {},
   "source": [
    "### Entrenando la programación"
   ]
  },
  {
   "cell_type": "markdown",
   "id": "ece39061",
   "metadata": {},
   "source": [
    "1 - Escribe un programa que pida a la persona usuaria que proporcione dos números y muestre el número más grande."
   ]
  },
  {
   "cell_type": "code",
   "execution_count": 7,
   "id": "33eb4107",
   "metadata": {},
   "outputs": [
    {
     "name": "stdout",
     "output_type": "stream",
     "text": [
      "El primer número es: 234.0\n",
      "El segundo número es: 5678.0\n",
      "El número mayor es: 5678.0\n"
     ]
    }
   ],
   "source": [
    "num1 = float(input(\"Ingrese el primer número: \"));\n",
    "print (\"El primer número es:\", num1);\n",
    "num2 = float(input(\"Ingrese el segundo número: \"));\n",
    "print (\"El segundo número es:\", num2);\n",
    "\n",
    "if num1 > num2:\n",
    "    print(f\"El número mayor es: {num1}\");\n",
    "elif num1 < num2:\n",
    "    print(f\"El número mayor es: {num2}\");\n",
    "else : \n",
    "    print(f\"Los dos números {num1} y {num2} son iguales\");"
   ]
  },
  {
   "cell_type": "markdown",
   "id": "4dd1940d",
   "metadata": {},
   "source": [
    "2 - Escribe un programa que solicite el porcentaje de crecimiento de producción de una empresa e informe si hubo un crecimiento (porcentaje positivo) o una disminución (porcentaje negativo)."
   ]
  },
  {
   "cell_type": "code",
   "execution_count": null,
   "id": "935abd6f",
   "metadata": {},
   "outputs": [
    {
     "name": "stdout",
     "output_type": "stream",
     "text": [
      "El porcentaje de crecimiento es: 100.0\n",
      "El porcentaje de crecimiento es positivo: 100.0%\n"
     ]
    }
   ],
   "source": [
    "porcentaje = float(input(\"Ingrese el porcentaje de crecimiento: \"));\n",
    "print (\"El porcentaje de crecimiento es:\", porcentaje);\n",
    "\n",
    "if porcentaje > 0:\n",
    "    print(f\"El porcentaje de crecimiento es positivo: {porcentaje}%\");\n",
    "elif porcentaje < 0:\n",
    "    print(f\"El porcentaje de crecimiento es negativo: {porcentaje}%\");\n",
    "else:\n",
    "    print(f\"El porcentaje de crecimiento es cero: {porcentaje}%\");"
   ]
  },
  {
   "cell_type": "markdown",
   "id": "661e2b31",
   "metadata": {},
   "source": [
    "3 - Escribe un programa que determine si una letra proporcionada por la persona usuaria es una vocal o una consonante."
   ]
  },
  {
   "cell_type": "code",
   "execution_count": 11,
   "id": "b0f4a31d",
   "metadata": {},
   "outputs": [
    {
     "name": "stdout",
     "output_type": "stream",
     "text": [
      "La letra ingresada es: e\n",
      "La letra e es una vocal\n"
     ]
    }
   ],
   "source": [
    "letra = input(\"Ingrese una letra: \");\n",
    "print (\"La letra ingresada es:\", letra);\n",
    "\n",
    "if letra.lower() in ['a', 'e', 'i', 'o', 'u']:\n",
    "    print(f\"La letra {letra} es una vocal\");\n",
    "elif letra.lower() in ['b', 'c', 'd', 'f', 'g', 'h', 'j', 'k', 'l', 'm', 'n', 'p', 'q', 'r', 's', 't', 'v', 'w', 'x', 'y', 'z']:\n",
    "    print(f\"La letra {letra} es una consonante\");\n",
    "else:\n",
    "    print(f\"La letra {letra} no es una letra válida\");"
   ]
  },
  {
   "cell_type": "markdown",
   "id": "02fb23f1",
   "metadata": {},
   "source": [
    "4 - Escribe un programa que lea valores promedio de precios de un modelo de automóvil durante 3 años consecutivos y muestre el valor más alto y más bajo entre esos tres años."
   ]
  },
  {
   "cell_type": "code",
   "execution_count": 13,
   "id": "326cad12",
   "metadata": {},
   "outputs": [
    {
     "name": "stdout",
     "output_type": "stream",
     "text": [
      "Los precios ingresados son: 11.0, 22.0, 33.0\n",
      "El precio más bajo es: 11.0\n",
      "El precio más alto es: 33.0\n"
     ]
    }
   ],
   "source": [
    "precio1 = float(input(\"Ingrese el precio del primer año: \"));\n",
    "precio2 = float(input(\"Ingrese el precio del segundo año: \"));\n",
    "precio3 = float(input(\"Ingrese el precio del tercer año: \"));\n",
    "print (f\"Los precios ingresados son: {precio1}, {precio2}, {precio3}\");\n",
    "\n",
    "if precio1 < precio2 and precio1 < precio3:\n",
    "    print(f\"El precio más bajo es: {precio1}\");\n",
    "    print(f\"El precio más alto es: {precio2 if precio2 > precio3 else precio3}\");\n",
    "elif precio2 < precio1 and precio2 < precio3:\n",
    "    print(f\"El precio más bajo es: {precio2}\");\n",
    "    print(f\"El precio más alto es: {precio1 if precio1 > precio3 else precio3}\");\n",
    "else:\n",
    "    print(f\"El precio más bajo es: {precio3}\");\n",
    "    print(f\"El precio más alto es: {precio1 if precio1 > precio2 else precio2}\");"
   ]
  },
  {
   "cell_type": "markdown",
   "id": "810ae123",
   "metadata": {},
   "source": [
    "5 - Escribe un programa que pregunte sobre el precio de tres productos e indique cuál es el producto más barato para comprar."
   ]
  },
  {
   "cell_type": "code",
   "execution_count": 14,
   "id": "a3ff8d56",
   "metadata": {},
   "outputs": [
    {
     "name": "stdout",
     "output_type": "stream",
     "text": [
      "Los precios de los productos son: 33.0, 44.0, 55.0\n",
      "El precio más bajo es: 33.0\n"
     ]
    }
   ],
   "source": [
    "producto1 = float(input(\"Ingrese el precio del primer producto: \"));\n",
    "producto2 = float(input(\"Ingrese el precio del segundo producto: \"));\n",
    "producto3 = float(input(\"Ingrese el precio del tercer producto: \"));\n",
    "print (f\"Los precios de los productos son: {producto1}, {producto2}, {producto3}\");\n",
    "\n",
    "if producto1 < producto2 and producto1 < producto3:\n",
    "    print(f\"El precio más bajo es: {producto1}\");\n",
    "elif producto2 < producto1 and producto2 < producto3:\n",
    "    print(f\"El precio más bajo es: {producto2}\");\n",
    "else:\n",
    "    print(f\"El precio más bajo es: {producto3}\");"
   ]
  },
  {
   "cell_type": "markdown",
   "id": "3081606e",
   "metadata": {},
   "source": [
    "6 - Escribe un programa que lea tres números y los muestre en orden descendente."
   ]
  },
  {
   "cell_type": "code",
   "execution_count": 18,
   "id": "958e6e8c",
   "metadata": {},
   "outputs": [
    {
     "name": "stdout",
     "output_type": "stream",
     "text": [
      "Los números ingresados son: 1.0, 2.0, 3.0\n",
      "3.0\n",
      "2.0\n",
      "1.0\n"
     ]
    }
   ],
   "source": [
    "num3 = float(input(\"Ingrese el primer número: \"));\n",
    "num4 = float(input(\"Ingrese el segundo número: \"));\n",
    "num5 = float(input(\"Ingrese el tercer número: \"));\n",
    "print (f\"Los números ingresados son: {num3}, {num4}, {num5}\");\n",
    "\n",
    "if (num3 >= num4) and (num3 >= num5):\n",
    "    print(num3);\n",
    "    if num4 >= num5:\n",
    "        print(num4);\n",
    "        print(num5);\n",
    "    else:\n",
    "        print(num5);\n",
    "        print(num4);    \n",
    "elif (num3 <= num4) and (num5 <= num4):\n",
    "    print(num4);\n",
    "    if num3 >= num5:\n",
    "        print(num3);\n",
    "        print(num5);\n",
    "    else:\n",
    "        print(num5);\n",
    "        print(num3);\n",
    "else : \n",
    "    print(num5);\n",
    "    if num3 >= num4:\n",
    "        print(num3);\n",
    "        print(num4);\n",
    "    else:\n",
    "        print(num4);\n",
    "        print(num3);"
   ]
  },
  {
   "cell_type": "markdown",
   "id": "39a03045",
   "metadata": {},
   "source": [
    "7 -Escribe un programa que pregunte en qué turno estudia la persona usuaria (\"mañana\", \"tarde\" o \"noche\") y muestre el mensaje \"¡Buenos Días!\", \"¡Buenas Tardes!\", \"¡Buenas Noches!\" o \"Valor Inválido!\", según el caso."
   ]
  },
  {
   "cell_type": "code",
   "execution_count": 22,
   "id": "4ade5c7b",
   "metadata": {},
   "outputs": [
    {
     "name": "stdout",
     "output_type": "stream",
     "text": [
      "El turno ingresado es: nocHe\n",
      "¡Buenas noches! Estás estudiando en el turno de la noche.\n"
     ]
    }
   ],
   "source": [
    "pregunta = input(\"¿En qué turno estudias? (mañana/tarde/noche): \");\n",
    "print (\"El turno ingresado es:\", pregunta);\n",
    "\n",
    "if pregunta.lower() == \"mañana\":\n",
    "    print(\"¡Buenos días! Estás estudiando en el turno de la mañana.\");\n",
    "elif pregunta.lower() == \"tarde\":\n",
    "    print(\"¡Buenas tardes! Estás estudiando en el turno de la tarde.\");\n",
    "elif pregunta.lower() == \"noche\":\n",
    "    print(\"¡Buenas noches! Estás estudiando en el turno de la noche.\");\n",
    "else:\n",
    "    print(\"El turno ingresado no es válido. Por favor, ingresa 'mañana', 'tarde' o 'noche'.\"); "
   ]
  },
  {
   "cell_type": "markdown",
   "id": "dd114efd",
   "metadata": {},
   "source": [
    "8 - Escribe un programa que solicite un número entero a la persona usuaria y determine si es par o impar. Pista: Puedes usar el operador módulo (%)."
   ]
  },
  {
   "cell_type": "code",
   "execution_count": 24,
   "id": "91af95fa",
   "metadata": {},
   "outputs": [
    {
     "name": "stdout",
     "output_type": "stream",
     "text": [
      "El número ingresado es: 71\n",
      "El número 71 es impar.\n"
     ]
    }
   ],
   "source": [
    "num6 = int(input(\"Ingrese un número entero: \"));\n",
    "print (\"El número ingresado es:\", num6);\n",
    "\n",
    "if num6 % 2 == 0:\n",
    "    print(f\"El número {num6} es par.\");\n",
    "else:\n",
    "    print(f\"El número {num6} es impar.\");"
   ]
  },
  {
   "cell_type": "markdown",
   "id": "5bf966b8",
   "metadata": {},
   "source": [
    "9 - Escribe un programa que pida un número a la persona usuaria y le informe si es entero o decimal."
   ]
  },
  {
   "cell_type": "code",
   "execution_count": 61,
   "id": "44d4734a",
   "metadata": {},
   "outputs": [
    {
     "name": "stdout",
     "output_type": "stream",
     "text": [
      "El número ingresado es: 66.8\n",
      "El número 66.8 es decimal.\n"
     ]
    }
   ],
   "source": [
    "num7 = float(input(\"Ingrese un número: \"));\n",
    "print (\"El número ingresado es:\", num7);\n",
    "\n",
    "if num7 % 1 == 0:\n",
    "    print(f\"El número {num7} es entero.\");\n",
    "else:\n",
    "    print(f\"El número {num7} es decimal.\");"
   ]
  },
  {
   "cell_type": "markdown",
   "id": "c06e397e",
   "metadata": {},
   "source": [
    "### Momento de los proyectos"
   ]
  },
  {
   "cell_type": "markdown",
   "id": "a13431e9",
   "metadata": {},
   "source": [
    "10 - Un programa debe ser escrito para leer dos números y luego preguntar a la persona usuaria qué operación desea realizar. El resultado de la operación debe incluir información sobre el número, si es par o impar, positivo o negativo, e entero o decimal."
   ]
  },
  {
   "cell_type": "code",
   "execution_count": 66,
   "id": "dc14f55b",
   "metadata": {},
   "outputs": [
    {
     "name": "stdout",
     "output_type": "stream",
     "text": [
      "Los números ingresados son: 2.0 y 5.0\n",
      "La división de 2.0 y 5.0 es: 0.4\n",
      "El resultado 0.4 es un número decimal.\n",
      "El resultado 0.4 es un número impar.\n",
      "El resultado 0.4 es positivo.\n"
     ]
    }
   ],
   "source": [
    "num8 = float(input(\"Ingrese un número: \"));\n",
    "num9 = float(input(\"Ingrese otro número: \"));\n",
    "print (\"Los números ingresados son:\", num8, \"y\", num9);\n",
    "operacion = input(\"Ingrese la operación a realizar (+,-,*,/): \");\n",
    "\n",
    "if operacion == '+':\n",
    "    resultado = num8 + num9;\n",
    "    print(f\"La suma de {num8} y {num9} es: {resultado}\");\n",
    "elif operacion == '-':\n",
    "    resultado = num8 - num9;\n",
    "    print(f\"La resta de {num8} y {num9} es: {resultado}\");\n",
    "elif operacion == '*':\n",
    "    resultado = num8 * num9;\n",
    "    print(f\"La multiplicación de {num8} y {num9} es: {resultado}\");\n",
    "elif operacion == '/':\n",
    "    resultado = num8 / num9;\n",
    "    print(f\"La división de {num8} y {num9} es: {resultado}\");\n",
    "else:\n",
    "    print(\"Operación no válida. Por favor, ingrese una operación válida (+,-,*,/).\");\n",
    "    resultado = None;\n",
    "\n",
    "if resultado % 1 == 0:\n",
    "    print(f\"El resultado {resultado} es un número entero.\");\n",
    "else:\n",
    "    print(f\"El resultado {resultado} es un número decimal.\");\n",
    "    \n",
    "if resultado % 2 == 0:\n",
    "    print(f\"El resultado {resultado} es un número par.\");\n",
    "else:\n",
    "    print(f\"El resultado {resultado} es un número impar.\");\n",
    "    \n",
    "if resultado > 0:\n",
    "    print(f\"El resultado {resultado} es positivo.\");            \n",
    "elif resultado < 0:\n",
    "    print(f\"El resultado {resultado} es negativo.\");\n",
    "else:\n",
    "    print(f\"El resultado {resultado} es cero.\");    \n",
    " "
   ]
  },
  {
   "cell_type": "markdown",
   "id": "9bea3170",
   "metadata": {},
   "source": [
    "11 - Escribe un programa que pida a la persona usuaria tres números que representan los lados de un triángulo. El programa debe informar si los valores pueden utilizarse para formar un triángulo y, en caso afirmativo, si es equilátero, isósceles o escaleno. Ten en cuenta algunas sugerencias:\n",
    "\n",
    "   . Tres lados forman un triángulo cuando la suma de cualesquiera dos lados es mayor que el tercero;\n",
    "\n",
    "   . Triángulo Equilátero: tres lados iguales;\n",
    "\n",
    "   . Triángulo Isósceles: dos lados iguales;\n",
    "   \n",
    "   . Triángulo Escaleno: tres lados diferentes."
   ]
  },
  {
   "cell_type": "code",
   "execution_count": 70,
   "id": "0619143a",
   "metadata": {},
   "outputs": [
    {
     "name": "stdout",
     "output_type": "stream",
     "text": [
      "Los lados del triángulo son: 2.0, 2.0, 4.0\n",
      "Los lados ingresados no pueden formar un triángulo.\n"
     ]
    }
   ],
   "source": [
    "lado1 = float(input(\"Ingrese el primer lado del triángulo: \"));\n",
    "lado2 = float(input(\"Ingrese el segundo lado del triángulo: \"));\n",
    "lado3 = float(input(\"Ingrese el tercer lado del triángulo: \"));\n",
    "print (f\"Los lados del triángulo son: {lado1}, {lado2}, {lado3}\");\n",
    "\n",
    "if (lado1 + lado2 > lado3) and (lado1 + lado3 > lado2) and (lado2 + lado3 > lado1):\n",
    "    print(\"Los lados ingresados pueden formar un triángulo.\");\n",
    "    if lado1 == lado2 == lado3:\n",
    "        print(\"El triángulo es equilátero.\");\n",
    "    elif lado1 == lado2 or lado1 == lado3 or lado2 == lado3:\n",
    "        print(\"El triángulo es isósceles.\");\n",
    "    else :\n",
    "        print(\"El triángulo es escaleno.\");\n",
    "else:\n",
    "    print(\"Los lados ingresados no pueden formar un triángulo.\");\n"
   ]
  },
  {
   "cell_type": "markdown",
   "id": "d62b02f4",
   "metadata": {},
   "source": [
    "12 - Un establecimiento está vendiendo combustibles con descuentos variables. Para el etanol, si la cantidad comprada es de hasta 15 litros, el descuento será del 2% por litro. En caso contrario, será del 4% por litro. Para el diésel, si la cantidad comprada es de hasta 15 litros, el descuento será del 3% por litro. En caso contrario, será del 5% por litro. El precio por litro de diésel es de R$ 2,00 y el precio por litro de etanol es de R$ 1,70. Escribe un programa que lea la cantidad de litros vendidos y el tipo de combustible (E para etanol y D para diésel) y calcule el valor a pagar por el cliente. Ten en cuenta algunas sugerencias:\n",
    "\n",
    ". El valor del descuento será el producto del precio por litro, la cantidad de litros y el valor del descuento.\n",
    "\n",
    ". El valor a pagar por un cliente será el resultado de la multiplicación del precio por litro por la cantidad de litros menos el valor del descuento resultante del cálculo."
   ]
  },
  {
   "cell_type": "code",
   "execution_count": 26,
   "id": "9e7fe9fa",
   "metadata": {},
   "outputs": [
    {
     "name": "stdout",
     "output_type": "stream",
     "text": [
      "Los 30.0 litros comprados son de D\n",
      "El total a pagar por los 30.0 litros de diésel con descuento del 5% es: 57.0\n"
     ]
    }
   ],
   "source": [
    "tipo = input(\"Ingrese el tipo de combustible comprado (E,D): \");\n",
    "cantidad = float(input(\"Ingrese la cantidad de litros comprados: \"));\n",
    "print(f\"Los {cantidad} litros comprados son de {tipo}\");\n",
    "\n",
    "precioE = 1.70;\n",
    "precioD = 2.00;\n",
    "\n",
    "if tipo == 'E' and cantidad <= 15:\n",
    "    descuentoE = 0.02;\n",
    "    totalE = cantidad * precioE * (1 - descuentoE);\n",
    "    print(f\"El total a pagar por los {cantidad} litros de etanol con descuento del 2% es: {totalE}\");\n",
    "elif tipo == 'E' and cantidad >= 15:\n",
    "    descuentoE = 0.04;\n",
    "    totalE = cantidad * precioE * (1 - descuentoE);\n",
    "    print(f\"El total a pagar por los {cantidad} litros de etanol con descuento del 4% es: {totalE}\");\n",
    "\n",
    "elif tipo == 'D' and cantidad <= 15:\n",
    "    descuentoD = 0.03;\n",
    "    totalD = cantidad * precioD * (1 - descuentoD);\n",
    "    print(f\"El total a pagar por los {cantidad} litros de diésel con descuento del 3% es: {totalD}\");\n",
    "else:\n",
    "    descuentoD = 0.05;\n",
    "    totalD = cantidad * precioD * (1 - descuentoD);\n",
    "    print(f\"El total a pagar por los {cantidad} litros de diésel con descuento del 5% es: {totalD}\");\n"
   ]
  },
  {
   "cell_type": "markdown",
   "id": "9203d796",
   "metadata": {},
   "source": [
    "13 - En una empresa de venta de bienes raíces, debes crear un código que analice los datos de ventas anuales para ayudar a la dirección en la toma de decisiones. El código debe recopilar los datos de cantidad de ventas durante los años 2022 y 2023 y calcular la variación porcentual. A partir del valor de la variación, se deben proporcionar las siguientes sugerencias:\n",
    "\n",
    ". Para una variación superior al 20%: bonificación para el equipo de ventas.\n",
    "\n",
    ". Para una variación entre el 2% y el 20%: pequeña bonificación para el equipo de ventas.\n",
    "\n",
    ". Para una variación entre el 2% y el -10%: planificación de políticas de incentivo a las ventas.\n",
    "\n",
    ". Para bonificaciones inferiores al -10%: recorte de gastos.\n"
   ]
  },
  {
   "cell_type": "code",
   "execution_count": 32,
   "id": "ca1d27a8",
   "metadata": {},
   "outputs": [
    {
     "name": "stdout",
     "output_type": "stream",
     "text": [
      "Las ventas del 2022 fueron: 33.0 y las del 2023 fueron: 44.0\n",
      "El porcentaje de crecimiento de las ventas es: 33.33%\n",
      "El equipo de ventas recibira una bonificación\n"
     ]
    }
   ],
   "source": [
    "venta_2022 = float(input(\"Ingrese el total de ventas del 2022: \"));\n",
    "venta_2023 = float(input(\"Ingrese el total de ventas del 2023: \"));\n",
    "print(f\"Las ventas del 2022 fueron: {venta_2022} y las del 2023 fueron: {venta_2023}\");\n",
    "\n",
    "vporcentual = ((venta_2023 - venta_2022) / venta_2022) * 100;\n",
    "print(f\"El porcentaje de crecimiento de las ventas es: {vporcentual:.2f}%\");\n",
    "\n",
    "if vporcentual > 20:\n",
    "    print(\"El equipo de ventas recibira una bonificación\"); \n",
    "elif 2 <= vporcentual <= 20:\n",
    "    print(\"El equipo de ventas recibira una pequeña bonificación\");\n",
    "elif -10 <= vporcentual < 2:\n",
    "    print(\"Planificación de politicas de incentivo a las ventas\");\n",
    "else:\n",
    "    print(\"Recorte de gastos\");"
   ]
  }
 ],
 "metadata": {
  "kernelspec": {
   "display_name": "Python 3",
   "language": "python",
   "name": "python3"
  },
  "language_info": {
   "codemirror_mode": {
    "name": "ipython",
    "version": 3
   },
   "file_extension": ".py",
   "mimetype": "text/x-python",
   "name": "python",
   "nbconvert_exporter": "python",
   "pygments_lexer": "ipython3",
   "version": "3.13.0"
  }
 },
 "nbformat": 4,
 "nbformat_minor": 5
}
