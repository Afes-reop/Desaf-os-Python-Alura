{
 "cells": [
  {
   "cell_type": "markdown",
   "id": "54b0b6ff",
   "metadata": {},
   "source": [
    "# Desafío: ¡Es hora de practicar!"
   ]
  },
  {
   "cell_type": "markdown",
   "id": "30b80db4",
   "metadata": {},
   "source": [
    "Vamos practicar el uso de estructuras de repetición como el \"while\" y el \"for\" a partir de algunas actividades. Ahora que estamos avanzando en el contenido, podemos hacer los desafíos más interesantes. ¡Para ello, trabajaremos en proyectos de código!"
   ]
  },
  {
   "cell_type": "markdown",
   "id": "4b866534",
   "metadata": {},
   "source": [
    "Comencemos resolviendo algunos problemas para calentar y prepararnos para los proyectos."
   ]
  },
  {
   "cell_type": "markdown",
   "id": "619556ff",
   "metadata": {},
   "source": [
    "### Entrenando la programación"
   ]
  },
  {
   "cell_type": "markdown",
   "id": "f96fde64",
   "metadata": {},
   "source": [
    "1 - Escribe un programa que solicite dos números enteros e imprima todos los números enteros entre ellos."
   ]
  },
  {
   "cell_type": "code",
   "execution_count": 2,
   "id": "8d07aa00",
   "metadata": {},
   "outputs": [
    {
     "name": "stdout",
     "output_type": "stream",
     "text": [
      "Los números ingresados son: 44 y 33\n",
      "33 34 35 36 37 38 39 40 41 42 43 44 "
     ]
    }
   ],
   "source": [
    "num1 = int(input(\"Ingrese el primer número: \"));\n",
    "num2 = int(input(\"Ingrese el segundo número: \"));\n",
    "print(\"Los números ingresados son:\", num1, \"y\", num2);\n",
    "\n",
    "if num1 > num2:\n",
    "    for i in range(num2, num1 + 1):\n",
    "        print(i, end=\" \");\n",
    "elif num1 < num2:\n",
    "    for i in range(num1, num2 + 1):\n",
    "        print(i, end=\" \");\n",
    "else:\n",
    "    print(\"Los números son iguales\");        "
   ]
  },
  {
   "cell_type": "markdown",
   "id": "d881fa8d",
   "metadata": {},
   "source": [
    "2 - Escribe un programa para calcular cuántos días tomará que la colonia de una bacteria A supere o iguale a la colonia de una bacteria B, basado en tasas de crecimiento del 3% y 1.5%, respectivamente. Supón que la colonia A comienza con 4 elementos y B con 10."
   ]
  },
  {
   "cell_type": "code",
   "execution_count": 3,
   "id": "617a394f",
   "metadata": {},
   "outputs": [
    {
     "name": "stdout",
     "output_type": "stream",
     "text": [
      "Días necesarios para que A supere a B: 63\n"
     ]
    }
   ],
   "source": [
    "A = 4;\n",
    "B = 10;\n",
    "\n",
    "tasa_A = 0.03;\n",
    "tasa_B = 0.015;\n",
    "\n",
    "dia = 0;\n",
    "\n",
    "while A < B:\n",
    "    A += A * tasa_A;\n",
    "    B += B * tasa_B;\n",
    "    dia += 1;\n",
    "print(\"Días necesarios para que A supere a B:\", dia);\n",
    "    "
   ]
  },
  {
   "cell_type": "markdown",
   "id": "6ac26374",
   "metadata": {},
   "source": [
    "3 - Para procesar una cantidad de 15 datos de evaluaciones de usuarios de un servicio de la empresa, necesitamos verificar si las calificaciones son válidas. Por lo tanto, escribe un programa que recibirá calificaciones del 0 al 5 y verificará si son valores válidos. Si se ingresa una calificación superior a 5 o inferior a 0, se repetirá hasta que el usuario ingrese un valor válido."
   ]
  },
  {
   "cell_type": "code",
   "execution_count": null,
   "id": "ffffa425",
   "metadata": {},
   "outputs": [
    {
     "name": "stdout",
     "output_type": "stream",
     "text": [
      "Todas las calificaciones son válidas y han sido ingresadas correctamente.\n"
     ]
    }
   ],
   "source": [
    "for i in range(15):\n",
    "    nota = float(input(f\"Ingrese la calificación {i}: \"));\n",
    "\n",
    "while (nota < 0) or (nota > 5):\n",
    "    nota = float(input(f\"Calificación inválida. Ingrese la calificación {i} nuevamente: \"));\n",
    "\n",
    "print(\"Todas las calificaciones son válidas y han sido ingresadas correctamente.\");"
   ]
  },
  {
   "cell_type": "markdown",
   "id": "15d03699",
   "metadata": {},
   "source": [
    "4 - Desarrolla un programa que lea un conjunto indefinido de temperaturas en grados Celsius y calcule su promedio. La lectura debe detenerse al ingresar el valor -273°C."
   ]
  },
  {
   "cell_type": "code",
   "execution_count": 7,
   "id": "37f739b4",
   "metadata": {},
   "outputs": [
    {
     "name": "stdout",
     "output_type": "stream",
     "text": [
      "El promedio de las temperaturas ingresadas es: 4.00 grados Celsius\n"
     ]
    }
   ],
   "source": [
    "temperatura = float(input(\"Ingrese la temperatura en grados Celsius: \"));\n",
    "\n",
    "contador = 0;\n",
    "suma = 0;\n",
    "\n",
    "while temperatura != -273:\n",
    "    suma += temperatura;\n",
    "    contador += 1;\n",
    "    \n",
    "    temperatura = float(input(\"Ingrese la temperatura en grados Celsius (o -273 para terminar): \"));\n",
    "\n",
    "promedio = suma / contador\n",
    "\n",
    "print(f\"El promedio de las temperaturas ingresadas es: {promedio:.2f} grados Celsius\");"
   ]
  },
  {
   "cell_type": "markdown",
   "id": "bf9878d6",
   "metadata": {},
   "source": [
    "5 - Escribe un programa que calcule el factorial de un número entero proporcionado por el usuario. Recuerda que el factorial de un número entero es el producto de ese número por todos sus antecesores hasta llegar al número 1. Por ejemplo, el factorial de 5 es 5 x 4 x 3 x 2 x 1 = 120."
   ]
  },
  {
   "cell_type": "code",
   "execution_count": 27,
   "id": "c624114b",
   "metadata": {},
   "outputs": [
    {
     "name": "stdout",
     "output_type": "stream",
     "text": [
      "El factorial de 4 es: 24\n"
     ]
    }
   ],
   "source": [
    "num3 = int(input(\"Ingrese un número: \"));\n",
    "\n",
    "factorial = 1;\n",
    "i = num3;\n",
    "while i > 0:\n",
    "    factorial *= i;\n",
    "    i -= 1;\n",
    "print(f\"El factorial de {num3} es: {factorial}\");"
   ]
  },
  {
   "cell_type": "markdown",
   "id": "5a41a4d6",
   "metadata": {},
   "source": [
    "### Momento de los proyectos"
   ]
  },
  {
   "cell_type": "markdown",
   "id": "d659dc15",
   "metadata": {},
   "source": [
    "6 - Escribe un programa que genere la tabla de multiplicar de un número entero del 1 al 10, según la elección del usuario. Como ejemplo, para el número 2, la tabla de multiplicar debe mostrarse en el siguiente formato:\n",
    "\n",
    "Tabla de multiplicar del 2:\n",
    "\n",
    "2 x 1 = 2\n",
    "\n",
    "2 x 2 = 4\n",
    "\n",
    "[...]\n",
    "\n",
    "2 x 10 = 20"
   ]
  },
  {
   "cell_type": "code",
   "execution_count": 28,
   "id": "b68cb673",
   "metadata": {},
   "outputs": [
    {
     "name": "stdout",
     "output_type": "stream",
     "text": [
      "Tabla de multiplicar del 1\n",
      "1 x 1 = 1\n",
      "1 x 2 = 2\n",
      "1 x 3 = 3\n",
      "1 x 4 = 4\n",
      "1 x 5 = 5\n",
      "1 x 6 = 6\n",
      "1 x 7 = 7\n",
      "1 x 8 = 8\n",
      "1 x 9 = 9\n",
      "1 x 10 = 10\n"
     ]
    }
   ],
   "source": [
    "num4 = int(input(\"Ingrese un número entero del 1 al 10: \"));\n",
    "\n",
    "print(\"Tabla de multiplicar del\", num4);\n",
    "for i in range(1, 11):\n",
    "    resultado = num4 * i;\n",
    "    print(f\"{num4} x {i} = {resultado}\");"
   ]
  },
  {
   "cell_type": "markdown",
   "id": "3de218c8",
   "metadata": {},
   "source": [
    "7 - Los números primos tienen diversas aplicaciones en Ciencia de Datos, como en criptografía y seguridad. Un número primo es aquel que es divisible solo por sí mismo y por 1. Por lo tanto, crea un programa que solicite un número entero y determine si es un número primo o no."
   ]
  },
  {
   "cell_type": "code",
   "execution_count": 30,
   "id": "6df5c430",
   "metadata": {},
   "outputs": [
    {
     "name": "stdout",
     "output_type": "stream",
     "text": [
      "3 es un número primo.\n"
     ]
    }
   ],
   "source": [
    "num5 = int(input(\"Ingrese un número entero positivo: \"));\n",
    "\n",
    "if num5 > 1:\n",
    "    for i in range(2, num5):\n",
    "        if num5 % i == 0:\n",
    "            print(f\"{num5} no es un número primo.\");\n",
    "            break;\n",
    "    else:\n",
    "        print(f\"{num5} es un número primo.\");\n",
    "else:\n",
    "    print(f\"{num5} no es un número primo\"); "
   ]
  },
  {
   "cell_type": "markdown",
   "id": "83d19583",
   "metadata": {},
   "source": [
    "8 - Vamos a comprender la distribución de edades de los pensionistas de una empresa de seguros. Escribe un programa que lea las edades de una cantidad no informada de clientes y muestre la distribución en los intervalos [0-25], [26-50], [51-75] y [76-100]. La entrada de datos se detendrá al ingresar un número negativo."
   ]
  },
  {
   "cell_type": "code",
   "execution_count": 2,
   "id": "0e80351a",
   "metadata": {},
   "outputs": [
    {
     "name": "stdout",
     "output_type": "stream",
     "text": [
      "Distribución de edades:\n",
      "0-25 años: 1\n",
      "26-50 años: 0\n",
      "51-75 años: 1\n",
      "76-100 años: 1\n"
     ]
    }
   ],
   "source": [
    "edad = int(input(\"Ingrese la edad (o un número negativo para terminar): \"));\n",
    "\n",
    "contador_0_25 = 0;\n",
    "contador_26_50 = 0;\n",
    "contador_51_75 = 0;\n",
    "contador_76_100 = 0;\n",
    "\n",
    "while edad >= 0: \n",
    "    if edad >= 0 and edad <= 25:\n",
    "        contador_0_25 += 1\n",
    "    elif edad >= 26 and edad <= 50:\n",
    "        contador_26_50 += 1\n",
    "    elif edad >= 51 and edad <= 75:\n",
    "        contador_51_75 += 1\n",
    "    elif edad >= 76 and edad <= 100:\n",
    "        contador_76_100 += 1\n",
    "        \n",
    "    edad = int(input(\"Ingrese la edad (o un número negativo para terminar): \"));\n",
    "\n",
    "print(\"Distribución de edades:\");\n",
    "print(f\"0-25 años: {contador_0_25}\");\n",
    "print(f\"26-50 años: {contador_26_50}\");\n",
    "print(f\"51-75 años: {contador_51_75}\");\n",
    "print(f\"76-100 años: {contador_76_100}\");"
   ]
  },
  {
   "cell_type": "markdown",
   "id": "15a9d6bb",
   "metadata": {},
   "source": [
    "9 - En una elección para la gerencia de una empresa con 20 empleados, hay cuatro candidatos. Escribe un programa que calcule al ganador de la elección. La votación se realizó de la siguiente manera:\n",
    "\n",
    "Cada empleado votó por uno de los cuatro candidatos (representados por los números 1, 2, 3 y 4).\n",
    "\n",
    "También se contaron los votos nulos (representados por el número 5) y los votos en blanco (representados por el número 6).\n",
    "\n",
    "Al final de la votación, el programa debe mostrar el número total de votos para cada candidato, los votos nulos y los votos en blanco. Además, debe calcular y mostrar el porcentaje de votos nulos con respecto al total de votos y el porcentaje de votos en blanco con respecto al total de votos."
   ]
  },
  {
   "cell_type": "code",
   "execution_count": 12,
   "id": "cd344cc0",
   "metadata": {},
   "outputs": [
    {
     "name": "stdout",
     "output_type": "stream",
     "text": [
      "Resultados de la votación:\n",
      "Candidato 1: 2 votos\n",
      "Candidato 2: 4 votos\n",
      "Candidato 3: 7 votos\n",
      "Candidato 4: 2 votos\n",
      "Votos nulos: 2\n",
      "Votos en blanco: 3\n",
      "Porcentaje de votos nulos: 10.0 %\n",
      "Porcentaje de votos en blanco: 15.0 %\n"
     ]
    }
   ],
   "source": [
    "candidato1 = 0;\n",
    "candidato2 = 0;\n",
    "candidato3 = 0;\n",
    "candidato4 = 0;\n",
    "v_nulos = 0;\n",
    "v_blancos = 0;\n",
    "\n",
    "for i in range(20):\n",
    "    voto = int(input(f\"Ingrese el voto {i + 1} (1-4 para candidatos, 5 para nulo, 6 para blanco): \"));\n",
    "    if voto == 1:\n",
    "        candidato1 += 1;\n",
    "    elif voto == 2:\n",
    "        candidato2 += 1;\n",
    "    elif voto == 3:\n",
    "        candidato3 += 1;\n",
    "    elif voto == 4:\n",
    "        candidato4 += 1;\n",
    "    elif voto == 5:\n",
    "        v_nulos += 1;\n",
    "    elif voto == 6:\n",
    "        v_blancos += 1;\n",
    "    else:\n",
    "        print(\"Voto inválido. Debe ser un número entre 1 y 6.\");\n",
    "\n",
    "print(\"Resultados de la votación:\");\n",
    "print(f\"Candidato 1: {candidato1} votos\");\n",
    "print(f\"Candidato 2: {candidato2} votos\");\n",
    "print(f\"Candidato 3: {candidato3} votos\");\n",
    "print(f\"Candidato 4: {candidato4} votos\");\n",
    "print(f\"Votos nulos: {v_nulos}\");\n",
    "print(f\"Votos en blanco: {v_blancos}\");\n",
    "print(\"Porcentaje de votos nulos:\", (v_nulos / 20) * 100, \"%\");\n",
    "print(\"Porcentaje de votos en blanco:\", (v_blancos / 20) * 100, \"%\");"
   ]
  }
 ],
 "metadata": {
  "kernelspec": {
   "display_name": "Python 3",
   "language": "python",
   "name": "python3"
  },
  "language_info": {
   "codemirror_mode": {
    "name": "ipython",
    "version": 3
   },
   "file_extension": ".py",
   "mimetype": "text/x-python",
   "name": "python",
   "nbconvert_exporter": "python",
   "pygments_lexer": "ipython3",
   "version": "3.13.0"
  }
 },
 "nbformat": 4,
 "nbformat_minor": 5
}
