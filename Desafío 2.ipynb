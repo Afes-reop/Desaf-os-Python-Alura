{
 "cells": [
  {
   "cell_type": "markdown",
   "metadata": {},
   "source": [
    "# Desafío: ¡Es hora de practicar!"
   ]
  },
  {
   "cell_type": "markdown",
   "metadata": {},
   "source": [
    "Vamos a practicar el uso de varios tipos de variables y la función input a través de algunas actividades. Resuelve los problemas propuestos en código."
   ]
  },
  {
   "cell_type": "markdown",
   "metadata": {},
   "source": [
    "### Recopilación y muestra de datos"
   ]
  },
  {
   "cell_type": "markdown",
   "metadata": {},
   "source": [
    "1 - Crea un programa que solicite al usuario que escriba su nombre y luego imprima \"Hola, [nombre].\""
   ]
  },
  {
   "cell_type": "code",
   "execution_count": 1,
   "metadata": {},
   "outputs": [
    {
     "name": "stdout",
     "output_type": "stream",
     "text": [
      "Hola, Anderson\n"
     ]
    }
   ],
   "source": [
    "nombre = input ('¿Comó te llamas?')\n",
    "print(f'Hola, {nombre}')"
   ]
  },
  {
   "cell_type": "markdown",
   "metadata": {},
   "source": [
    "2 - Crea un programa que solicite al usuario que escriba su nombre y edad, y luego imprima \"Hola, [nombre], tienes [edad] años.\""
   ]
  },
  {
   "cell_type": "code",
   "execution_count": 2,
   "metadata": {},
   "outputs": [
    {
     "name": "stdout",
     "output_type": "stream",
     "text": [
      "Hola, Anderson, tienes 25 años\n"
     ]
    }
   ],
   "source": [
    "name = input ('¿Comó te llamas?')\n",
    "age = input ('¿Cuántos años tienes?')\n",
    "print(f'Hola, {name}, tienes {age} años')"
   ]
  },
  {
   "cell_type": "markdown",
   "metadata": {},
   "source": [
    "3 - Crea un programa que solicite al usuario que escriba su nombre, edad y altura en metros, y luego imprima \"Hola, [nombre], tienes [edad] años y mides [altura] metros.\"\n",
    "\n"
   ]
  },
  {
   "cell_type": "code",
   "execution_count": 3,
   "metadata": {},
   "outputs": [
    {
     "name": "stdout",
     "output_type": "stream",
     "text": [
      "Hola, Anderson, tienes 25 años y mides 1.65 metros\n"
     ]
    }
   ],
   "source": [
    "nAme = input ('¿Comó te llamas?')\n",
    "aGe = input ('¿Cuántos años tienes?')\n",
    "high = input ('¿Cuántos metros mides?')\n",
    "print(f'Hola, {nAme}, tienes {aGe} años y mides {high} metros')"
   ]
  },
  {
   "cell_type": "markdown",
   "metadata": {},
   "source": [
    "### Calculadora con operadores"
   ]
  },
  {
   "cell_type": "markdown",
   "metadata": {},
   "source": [
    "4 - Crea un programa que solicite dos valores numéricos al usuario y luego imprima la suma de ambos valores."
   ]
  },
  {
   "cell_type": "code",
   "execution_count": 5,
   "metadata": {},
   "outputs": [
    {
     "name": "stdout",
     "output_type": "stream",
     "text": [
      "La suma de 3 y 5 es 8\n"
     ]
    }
   ],
   "source": [
    "one = input ('Dime un número')\n",
    "two = input ('DIme otro número')\n",
    "print(f'La suma de {one} y {two} es {int(one) + int (two)}') "
   ]
  },
  {
   "cell_type": "markdown",
   "metadata": {},
   "source": [
    "5 - Crea un programa que solicite tres valores numéricos al usuario y luego imprima la suma de los tres valores."
   ]
  },
  {
   "cell_type": "code",
   "execution_count": 7,
   "metadata": {},
   "outputs": [
    {
     "name": "stdout",
     "output_type": "stream",
     "text": [
      "La suma de 1, 2 y 3 es 6\n"
     ]
    }
   ],
   "source": [
    "oNe = input ('Dime un número')\n",
    "tWo = input ('DIme otro número')\n",
    "three = input ('Dime otro número')\n",
    "new = int(oNe) + int(tWo) + int(three)\n",
    "print(f'La suma de {oNe}, {tWo} y {three} es {new}') "
   ]
  },
  {
   "cell_type": "markdown",
   "metadata": {},
   "source": [
    "6 - Crea un programa que solicite dos valores numéricos al usuario y luego imprima la resta del primero menos el segundo valor."
   ]
  },
  {
   "cell_type": "code",
   "execution_count": 11,
   "metadata": {},
   "outputs": [
    {
     "name": "stdout",
     "output_type": "stream",
     "text": [
      "El resultado de 8 menos 5 es 3\n"
     ]
    }
   ],
   "source": [
    "uno = input ('Dime un número')\n",
    "dos = input ('DIme otro número')\n",
    "print(f'El resultado de {uno} menos {dos} es {int(uno) - int (dos)}') "
   ]
  },
  {
   "cell_type": "markdown",
   "metadata": {},
   "source": [
    "7 - Crea un programa que solicite dos valores numéricos al usuario y luego imprima la multiplicación de los dos valores."
   ]
  },
  {
   "cell_type": "code",
   "execution_count": 12,
   "metadata": {},
   "outputs": [
    {
     "name": "stdout",
     "output_type": "stream",
     "text": [
      "El producto entre 3 y 4 es 12\n"
     ]
    }
   ],
   "source": [
    "uNo = input ('Dime un número')\n",
    "dOs = input ('DIme otro número')\n",
    "print(f'El producto entre {uNo} y {dOs} es {int(uNo) * int (dOs)}') "
   ]
  },
  {
   "cell_type": "markdown",
   "metadata": {},
   "source": [
    "8 - Crea un programa que solicite dos valores numéricos, un numerador y un denominador, y realice la división entre los dos valores. Asegúrate de que el valor del denominador no sea igual a 0."
   ]
  },
  {
   "cell_type": "code",
   "execution_count": 15,
   "metadata": {},
   "outputs": [
    {
     "name": "stdout",
     "output_type": "stream",
     "text": [
      "La división entre 50 y 10 es 5.0\n"
     ]
    }
   ],
   "source": [
    "num = input ('Digite un numerador')\n",
    "den = input ('Digite un denominador, diferente de cero')\n",
    "print(f'La división entre {num} y {den} es {int(num) / int (den)}') "
   ]
  },
  {
   "cell_type": "markdown",
   "metadata": {},
   "source": [
    "9 - Crea un programa que solicite dos valores numéricos, un operador y una potencia, y realice la exponenciación entre estos dos valores."
   ]
  },
  {
   "cell_type": "code",
   "execution_count": 19,
   "metadata": {},
   "outputs": [
    {
     "name": "stdout",
     "output_type": "stream",
     "text": [
      "2 elevado a la 3 es 8\n"
     ]
    }
   ],
   "source": [
    "ope = input ('Digite un operador')\n",
    "pot = input ('DIgite un exponente')\n",
    "print(f'{ope} elevado a la {pot} es {int(ope) ** int (pot)}') "
   ]
  },
  {
   "cell_type": "markdown",
   "metadata": {},
   "source": [
    "10 - Crea un programa que solicite dos valores numéricos, un numerador y un denominador, y realice la división entera entre los dos valores. Asegúrate de que el valor del denominador no sea igual a 0."
   ]
  },
  {
   "cell_type": "code",
   "execution_count": 20,
   "metadata": {},
   "outputs": [
    {
     "name": "stdout",
     "output_type": "stream",
     "text": [
      "La división entre 7 y 3 es 2\n"
     ]
    }
   ],
   "source": [
    "nUm = input ('Digite un numerador')\n",
    "dEn = input ('Digite un denominador, diferente de cero')\n",
    "print(f'La división entre {nUm} y {dEn} es {int(nUm) // int (dEn)}') "
   ]
  },
  {
   "cell_type": "markdown",
   "metadata": {},
   "source": [
    "11 - Crea un programa que solicite dos valores numéricos, un numerador y un denominador, y devuelva el resto de la división entre los dos valores. Asegúrate de que el valor del denominador no sea igual a 0."
   ]
  },
  {
   "cell_type": "code",
   "execution_count": 22,
   "metadata": {},
   "outputs": [
    {
     "name": "stdout",
     "output_type": "stream",
     "text": [
      "La división entre 7 y 3 es 1\n"
     ]
    }
   ],
   "source": [
    "nuM = input ('Digite un numerador')\n",
    "deN = input ('Digite un denominador, diferente de cero')\n",
    "print(f'La división entre {nuM} y {deN} es {int(nuM) % int (deN)}') "
   ]
  },
  {
   "cell_type": "markdown",
   "metadata": {},
   "source": [
    "12 - Crea un código que solicite las 3 notas de un estudiante e imprima el promedio de las notas."
   ]
  },
  {
   "cell_type": "code",
   "execution_count": 23,
   "metadata": {},
   "outputs": [
    {
     "name": "stdout",
     "output_type": "stream",
     "text": [
      "El promedio de las 3 notas 5, 4 y 3 es 4.0\n"
     ]
    }
   ],
   "source": [
    "nota1 = input ('Digite la 1ra nota')\n",
    "nota2 = input ('Digite la 2da nota')\n",
    "nota3 = input ('Digite la 3ra nota')\n",
    "promedio = (int(nota1) + int(nota2) + int(nota3))/3\n",
    "print(f'El promedio de las 3 notas {nota1}, {nota2} y {nota3} es {promedio}') "
   ]
  },
  {
   "cell_type": "markdown",
   "metadata": {},
   "source": [
    "13 - Crea un código que calcule e imprima el promedio ponderado de los números 5, 12, 20 y 15 con pesos respectivamente iguales a 1, 2, 3 y 4."
   ]
  },
  {
   "cell_type": "code",
   "execution_count": null,
   "metadata": {},
   "outputs": [
    {
     "name": "stdout",
     "output_type": "stream",
     "text": [
      "La media ponderada de las notas y sus pesos es 14.9\n"
     ]
    }
   ],
   "source": [
    "media_ponderada = (5*1 + 12*2 + 20*3 + 15*4) / (1 + 2 + 3 + 4)\n",
    "print(f'La media ponderada de las notas y sus pesos es {media_ponderada}')"
   ]
  },
  {
   "cell_type": "markdown",
   "metadata": {},
   "source": [
    "### Editando textos"
   ]
  },
  {
   "cell_type": "markdown",
   "metadata": {},
   "source": [
    "14 - Crea una variable llamada \"frase\" y asígnale una cadena de texto de tu elección. Luego, imprime la frase en pantalla."
   ]
  },
  {
   "cell_type": "code",
   "execution_count": 27,
   "metadata": {},
   "outputs": [
    {
     "name": "stdout",
     "output_type": "stream",
     "text": [
      "¡Hola, mundo!\n"
     ]
    }
   ],
   "source": [
    "fras = '¡Hola, mundo!'\n",
    "print(fras)"
   ]
  },
  {
   "cell_type": "markdown",
   "metadata": {},
   "source": [
    "15 - Crea un código que solicite una frase y luego imprima la frase en pantalla."
   ]
  },
  {
   "cell_type": "code",
   "execution_count": 26,
   "metadata": {},
   "outputs": [
    {
     "name": "stdout",
     "output_type": "stream",
     "text": [
      "Tu frase fue: ¡Hola, Python!\n"
     ]
    }
   ],
   "source": [
    "frase = input ('Escribe una frase: ')\n",
    "print(f'Tu frase fue: {frase}')"
   ]
  },
  {
   "cell_type": "markdown",
   "metadata": {},
   "source": [
    "16 - Crea un código que solicite una frase al usuario y luego imprima la misma frase ingresada pero en mayúsculas."
   ]
  },
  {
   "cell_type": "code",
   "execution_count": 29,
   "metadata": {},
   "outputs": [
    {
     "name": "stdout",
     "output_type": "stream",
     "text": [
      "Tu frase fue: ¡HOLA, PYTHON!\n"
     ]
    }
   ],
   "source": [
    "frase1= input ('Escribe una frase: ')\n",
    "print(f'Tu frase fue: {frase1.upper()}')"
   ]
  },
  {
   "cell_type": "markdown",
   "metadata": {},
   "source": [
    "17 - Crea un código que solicite una frase al usuario y luego imprima la misma frase ingresada pero en minúsculas."
   ]
  },
  {
   "cell_type": "code",
   "execution_count": 30,
   "metadata": {},
   "outputs": [
    {
     "name": "stdout",
     "output_type": "stream",
     "text": [
      "Tu frase fue: ¡hola, mundo!\n"
     ]
    }
   ],
   "source": [
    "frase2= input ('Escribe una frase: ')\n",
    "print(f'Tu frase fue: {frase2.lower()}')"
   ]
  },
  {
   "cell_type": "markdown",
   "metadata": {},
   "source": [
    "18 - Crea una variable llamada \"frase\" y asígnale una cadena de texto de tu elección. Luego, imprime la frase sin espacios en blanco al principio y al final."
   ]
  },
  {
   "cell_type": "code",
   "execution_count": 42,
   "metadata": {},
   "outputs": [
    {
     "name": "stdout",
     "output_type": "stream",
     "text": [
      "                 ¡Hola, mundo!                 \n",
      "¡Hola, mundo!\n"
     ]
    }
   ],
   "source": [
    "frase3= '                 ¡Hola, mundo!                 '\n",
    "print(frase3)\n",
    "print(f'{frase3.strip()}')"
   ]
  },
  {
   "cell_type": "markdown",
   "metadata": {},
   "source": [
    "19 - Crea un código que solicite una frase al usuario y luego imprima la misma frase sin espacios en blanco al principio y al final."
   ]
  },
  {
   "cell_type": "code",
   "execution_count": 45,
   "metadata": {},
   "outputs": [
    {
     "name": "stdout",
     "output_type": "stream",
     "text": [
      "                 ¡Hola, Python!                 \n",
      "¡Hola, Python!\n"
     ]
    }
   ],
   "source": [
    "frase4  = input ('Escribe una frase: ')\n",
    "print(frase4)\n",
    "print(f'{frase4.strip()}')"
   ]
  },
  {
   "cell_type": "markdown",
   "metadata": {},
   "source": [
    "20 - Crea un código que solicite una frase al usuario y luego imprima la misma frase sin espacios en blanco al principio y al final, además de convertirla a minúsculas."
   ]
  },
  {
   "cell_type": "code",
   "execution_count": 46,
   "metadata": {},
   "outputs": [
    {
     "name": "stdout",
     "output_type": "stream",
     "text": [
      "                 ¡Hola, Python!                 \n",
      "¡hola, python!\n"
     ]
    }
   ],
   "source": [
    "frase5 = input ('Escribe una frase: ')\n",
    "print(frase5)\n",
    "print(f'{frase5.strip().lower()}')"
   ]
  },
  {
   "cell_type": "markdown",
   "metadata": {},
   "source": [
    "21 - Crea un código que solicite una frase al usuario y luego imprima la misma frase con todas las vocales \"e\" reemplazadas por la letra \"f\"."
   ]
  },
  {
   "cell_type": "code",
   "execution_count": 47,
   "metadata": {},
   "outputs": [
    {
     "name": "stdout",
     "output_type": "stream",
     "text": [
      "eeeeeeeeeeeeee\n",
      "ffffffffffffff\n"
     ]
    }
   ],
   "source": [
    "frase6 = input ('Escribe una frase: ')\n",
    "print(frase6)\n",
    "print(f'{frase6.replace(\"e\", \"f\")}') "
   ]
  },
  {
   "cell_type": "markdown",
   "metadata": {},
   "source": [
    "22 - Crea un código que solicite una frase al usuario y luego imprima la misma frase con todas las vocales \"a\" reemplazadas por el carácter \"@\"."
   ]
  },
  {
   "cell_type": "code",
   "execution_count": 48,
   "metadata": {},
   "outputs": [
    {
     "name": "stdout",
     "output_type": "stream",
     "text": [
      "aaaaaaaaaaa\n",
      "@@@@@@@@@@@\n"
     ]
    }
   ],
   "source": [
    "frase7 = input ('Escribe una frase: ')\n",
    "print(frase7)\n",
    "print(f'{frase7.replace(\"a\", \"@\")}') "
   ]
  },
  {
   "cell_type": "markdown",
   "metadata": {},
   "source": [
    "23 - Crea un código que solicite una frase al usuario y luego imprima la misma frase con todas las consonantes \"s\" reemplazadas por el carácter \"$\"."
   ]
  },
  {
   "cell_type": "code",
   "execution_count": 49,
   "metadata": {},
   "outputs": [
    {
     "name": "stdout",
     "output_type": "stream",
     "text": [
      "sssssssssssss\n",
      "$$$$$$$$$$$$$\n"
     ]
    }
   ],
   "source": [
    "frase8 = input ('Escribe una frase: ')\n",
    "print(frase8)\n",
    "print(f'{frase8.replace(\"s\", \"$\")}') "
   ]
  }
 ],
 "metadata": {
  "kernelspec": {
   "display_name": "Python 3",
   "language": "python",
   "name": "python3"
  },
  "language_info": {
   "codemirror_mode": {
    "name": "ipython",
    "version": 3
   },
   "file_extension": ".py",
   "mimetype": "text/x-python",
   "name": "python",
   "nbconvert_exporter": "python",
   "pygments_lexer": "ipython3",
   "version": "3.13.0"
  }
 },
 "nbformat": 4,
 "nbformat_minor": 2
}
